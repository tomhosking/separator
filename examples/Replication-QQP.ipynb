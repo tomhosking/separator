{
 "cells": [
  {
   "cell_type": "code",
   "execution_count": 6,
   "id": "3cff394e",
   "metadata": {},
   "outputs": [
    {
     "name": "stderr",
     "output_type": "stream",
     "text": [
      "Validating after 0 epochs: 100%|███████████████████████████████████████████████████████████████████████████████████████████████████████████████████████████| 329/329 [01:51<00:00,  2.96it/s]\n"
     ]
    },
    {
     "name": "stdout",
     "output_type": "stream",
     "text": [
      "Uncased: 22.84/22.93/9.11\n",
      "Cased: 13.80/14.43/5.33\n"
     ]
    }
   ],
   "source": [
    "import json, jsonlines, sacrebleu\n",
    "from torchseq.agents.para_agent import ParaphraseAgent\n",
    "from torchseq.datasets.json_loader import JsonDataLoader\n",
    "from torchseq.utils.config import Config\n",
    "\n",
    "import torch\n",
    "\n",
    "# Which checkpoint should we load?\n",
    "path_to_model = '../models/separator-qqp-v1.2/'\n",
    "\n",
    "# Load the data\n",
    "with jsonlines.open('../data/qqp-splitforgeneval/test.jsonl') as f:\n",
    "    rows = [row for row in f]\n",
    "\n",
    "examples = [{'input': row['sem_input']} for row in rows]\n",
    "\n",
    "\n",
    "# Change the config to use the custom dataset\n",
    "with open(path_to_model + \"/config.json\") as f:\n",
    "    cfg_dict = json.load(f)\n",
    "cfg_dict[\"env\"][\"data_path\"] = \"../data/\"\n",
    "cfg_dict[\"dataset\"] = \"json\"\n",
    "cfg_dict[\"json_dataset\"] = {\n",
    "    \"path\": None,\n",
    "    \"field_map\": [\n",
    "        {\"type\": \"copy\", \"from\": \"input\", \"to\": \"s2\"},\n",
    "        {\"type\": \"copy\", \"from\": \"input\", \"to\": \"s1\"},\n",
    "        {\"type\": \"copy\", \"from\": \"input\", \"to\": \"template\"},\n",
    "    ],\n",
    "}\n",
    "\n",
    "# Enable the code predictor\n",
    "cfg_dict[\"bottleneck\"][\"code_predictor\"][\"infer_codes\"] = True\n",
    "\n",
    "# Create the dataset and model\n",
    "config = Config(cfg_dict)\n",
    "data_loader = JsonDataLoader(config, test_samples=examples)\n",
    "checkpoint_path = path_to_model + \"/model/checkpoint.pt\"\n",
    "instance = ParaphraseAgent(config=config, run_id=None, output_path=None, silent=False, verbose=False, training_mode=False)\n",
    "\n",
    "# Load the checkpoint\n",
    "instance.load_checkpoint(checkpoint_path)\n",
    "instance.model.eval()\n",
    "    \n",
    "# Finally, run inference\n",
    "_, _, (pred_output, _, _), _ = instance.inference(data_loader.test_loader)\n",
    "\n",
    "refs = [q[\"paras\"] for q in rows]\n",
    "inputs = [[q[\"sem_input\"]] for q in rows]\n",
    "\n",
    "max_num_refs = max([len(x) for x in refs])\n",
    "refs_padded = [x + [x[0]] * (max_num_refs - len(x)) for x in refs]\n",
    "\n",
    "# Calculate uncased iBLEU scores\n",
    "tgt_bleu = sacrebleu.corpus_bleu(pred_output, list(zip(*refs_padded)), lowercase=True).score\n",
    "self_bleu = sacrebleu.corpus_bleu(pred_output, list(zip(*inputs)), lowercase=True).score\n",
    "\n",
    "alpha = 0.7\n",
    "ibleu = alpha * tgt_bleu - (1 - alpha) * self_bleu\n",
    "\n",
    "print('Uncased: {:0.2f}/{:0.2f}/{:0.2f}'.format( tgt_bleu, self_bleu, ibleu))\n",
    "\n",
    "# Calculate cased iBLEU scores\n",
    "tgt_bleu = sacrebleu.corpus_bleu(pred_output, list(zip(*refs_padded)), lowercase=False).score\n",
    "self_bleu = sacrebleu.corpus_bleu(pred_output, list(zip(*inputs)), lowercase=False).score\n",
    "\n",
    "alpha = 0.7\n",
    "ibleu = alpha * tgt_bleu - (1 - alpha) * self_bleu\n",
    "\n",
    "print('Cased: {:0.2f}/{:0.2f}/{:0.2f}'.format( tgt_bleu, self_bleu, ibleu))"
   ]
  },
  {
   "cell_type": "code",
   "execution_count": null,
   "id": "20c23b92",
   "metadata": {},
   "outputs": [],
   "source": []
  }
 ],
 "metadata": {
  "kernelspec": {
   "display_name": "Python 3",
   "language": "python",
   "name": "python3"
  },
  "language_info": {
   "codemirror_mode": {
    "name": "ipython",
    "version": 3
   },
   "file_extension": ".py",
   "mimetype": "text/x-python",
   "name": "python",
   "nbconvert_exporter": "python",
   "pygments_lexer": "ipython3",
   "version": "3.8.5"
  }
 },
 "nbformat": 4,
 "nbformat_minor": 5
}
