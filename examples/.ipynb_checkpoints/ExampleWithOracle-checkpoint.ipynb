{
 "cells": [
  {
   "cell_type": "code",
   "execution_count": null,
   "metadata": {},
   "outputs": [],
   "source": [
    "import json\n",
    "from torchseq.agents.para_agent import ParaphraseAgent\n",
    "from torchseq.datasets.json_loader import JsonDataLoader\n",
    "from torchseq.utils.config import Config\n",
    "import torch\n",
    "\n",
    "path_to_model = '../models/separator-wa/'\n",
    "\n",
    "examples = [\n",
    "    {'sem_input': 'How heavy is a moose?', 'syn_input': 'How much is a surgeons income?'},\n",
    "    {'sem_input': 'How heavy is a moose?', 'syn_input': 'What is the income of a surgeon?'}\n",
    "]\n",
    "\n",
    "with open(path_to_model + \"/config.json\") as f:\n",
    "    cfg_dict = json.load(f)\n",
    "\n",
    "config_gen_with_templ[\"dataset\"] = \"json\"\n",
    "config_gen_with_templ[\"json_dataset\"] = {\n",
    "    \"path\": None,\n",
    "    \"field_map\": [\n",
    "        {\"type\": \"copy\", \"from\": \"sem_input\", \"to\": \"s2\"},\n",
    "        {\"type\": \"copy\", \"from\": \"syn_input\", \"to\": \"template\"},\n",
    "        {\"type\": \"copy\", \"from\": \"sem_input\", \"to\": \"s1\"},\n",
    "    ],\n",
    "}\n",
    "\n",
    "config = Config(cfg_dict)\n",
    "    \n",
    "data_loader = JsonDataLoader(config, test_samples=examples)\n",
    "\n",
    "checkpoint_path = path_to_model + \"/model/checkpoint.pt\"\n",
    "\n",
    "instance = ParaphraseAgent(config=config, run_id=None, output_path=\"./runs/parademo/\", silent=True, verbose=False)\n",
    "\n",
    "instance.load_checkpoint(checkpoint_path)\n",
    "instance.model.eval()\n",
    "    \n",
    "\n",
    "loss, metrics, (pred_output, gold_output, gold_input), memory_values_to_return = instance.inference(data_loader.train_loader)\n",
    "\n",
    "print(pred_output[0])"
   ]
  }
 ],
 "metadata": {
  "kernelspec": {
   "display_name": "Python 3",
   "language": "python",
   "name": "python3"
  },
  "language_info": {
   "codemirror_mode": {
    "name": "ipython",
    "version": 3
   },
   "file_extension": ".py",
   "mimetype": "text/x-python",
   "name": "python",
   "nbconvert_exporter": "python",
   "pygments_lexer": "ipython3",
   "version": "3.8.5"
  }
 },
 "nbformat": 4,
 "nbformat_minor": 4
}
