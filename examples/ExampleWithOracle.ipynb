{
 "cells": [
  {
   "cell_type": "code",
   "execution_count": 8,
   "metadata": {},
   "outputs": [
    {
     "name": "stdout",
     "output_type": "stream",
     "text": [
      "['how many kilograms is a moose?', 'what is the weight of a moose?']\n"
     ]
    }
   ],
   "source": [
    "import json\n",
    "from torchseq.agents.para_agent import ParaphraseAgent\n",
    "from torchseq.datasets.json_loader import JsonDataLoader\n",
    "from torchseq.utils.config import Config\n",
    "import torch\n",
    "\n",
    "path_to_model = '../models/separator-wa/'\n",
    "\n",
    "examples = [\n",
    "    {'input': 'How heavy is a moose in kilograms?', 'exemplar': 'How many pounds is a surgeons income?'},\n",
    "    {'input': 'How heavy is a moose?', 'exemplar': 'What is the income of a surgeon?'}\n",
    "]\n",
    "\n",
    "with open(path_to_model + \"/config.json\") as f:\n",
    "    cfg_dict = json.load(f)\n",
    "cfg_dict[\"env\"][\"data_path\"] = \"../data/\"\n",
    "cfg_dict[\"dataset\"] = \"json\"\n",
    "cfg_dict[\"json_dataset\"] = {\n",
    "    \"path\": None,\n",
    "    \"field_map\": [\n",
    "        {\"type\": \"copy\", \"from\": \"input\", \"to\": \"s2\"},\n",
    "        {\"type\": \"copy\", \"from\": \"exemplar\", \"to\": \"template\"},\n",
    "        {\"type\": \"copy\", \"from\": \"input\", \"to\": \"s1\"},\n",
    "    ],\n",
    "}\n",
    "\n",
    "config = Config(cfg_dict)\n",
    "    \n",
    "data_loader = JsonDataLoader(config, test_samples=examples)\n",
    "\n",
    "checkpoint_path = path_to_model + \"/model/checkpoint.pt\"\n",
    "\n",
    "instance = ParaphraseAgent(config=config, run_id=None, output_path=\"./runs/parademo/\", silent=True, verbose=False)\n",
    "\n",
    "instance.load_checkpoint(checkpoint_path)\n",
    "instance.model.eval()\n",
    "    \n",
    "\n",
    "loss, metrics, (pred_output, gold_output, gold_input), memory_values_to_return = instance.inference(data_loader.test_loader)\n",
    "\n",
    "print(pred_output)"
   ]
  },
  {
   "cell_type": "code",
   "execution_count": null,
   "metadata": {},
   "outputs": [],
   "source": []
  },
  {
   "cell_type": "code",
   "execution_count": null,
   "metadata": {},
   "outputs": [],
   "source": []
  }
 ],
 "metadata": {
  "kernelspec": {
   "display_name": "Python 3",
   "language": "python",
   "name": "python3"
  },
  "language_info": {
   "codemirror_mode": {
    "name": "ipython",
    "version": 3
   },
   "file_extension": ".py",
   "mimetype": "text/x-python",
   "name": "python",
   "nbconvert_exporter": "python",
   "pygments_lexer": "ipython3",
   "version": "3.8.5"
  }
 },
 "nbformat": 4,
 "nbformat_minor": 4
}
